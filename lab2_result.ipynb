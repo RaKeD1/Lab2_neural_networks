{
 "cells": [
  {
   "cell_type": "markdown",
   "metadata": {
    "id": "lDJJ0cNmdgKQ"
   },
   "source": [
    "#Лабораторная работа №2\n",
    "\n",
    "Создание нейронной сети, выполняющей мультиклассовую классификацию"
   ]
  },
  {
   "cell_type": "code",
   "execution_count": 2193,
   "metadata": {
    "id": "pXZwDlaPeqFg",
    "ExecuteTime": {
     "end_time": "2024-03-06T03:45:05.101549600Z",
     "start_time": "2024-03-06T03:45:05.066164600Z"
    }
   },
   "outputs": [],
   "source": [
    "import random\n",
    "import numpy as np\n",
    "\n",
    "dataset = list()\n",
    "\n",
    "actions = ['-','+']\n",
    "for i in range(10000):\n",
    "  temp = list()\n",
    "  temp.append(random.randint(-100, 100) * 0.01)\n",
    "  temp.append(random.randint(-100, 100) * 0.01)\n",
    "  temp.append(random.randint(0, 1))\n",
    "  if temp[2]:\n",
    "    if temp[0] - temp[1] < 0:\n",
    "      temp.append(0)\n",
    "    elif temp[0] - temp[1] == 0:\n",
    "      temp.append(1)\n",
    "    else:\n",
    "      temp.append(2)\n",
    "  else:\n",
    "    if temp[0] + temp[1] < 0:\n",
    "      temp.append(0)\n",
    "    elif temp[0] + temp[1] == 0:\n",
    "      temp.append(1)\n",
    "    else:\n",
    "      temp.append(2)\n",
    "  dataset.append(temp)\n"
   ]
  },
  {
   "cell_type": "code",
   "execution_count": 2194,
   "metadata": {
    "colab": {
     "base_uri": "https://localhost:8080/"
    },
    "id": "jQHItQKLgATl",
    "outputId": "2e4dda92-0ec2-4bef-dc23-0a7509456870",
    "ExecuteTime": {
     "end_time": "2024-03-06T03:45:05.102550400Z",
     "start_time": "2024-03-06T03:45:05.083538300Z"
    }
   },
   "outputs": [
    {
     "data": {
      "text/plain": "[0.75, -0.02, 0, 2]"
     },
     "execution_count": 2194,
     "metadata": {},
     "output_type": "execute_result"
    }
   ],
   "source": [
    "random.choice(dataset)"
   ]
  },
  {
   "cell_type": "code",
   "execution_count": 2195,
   "metadata": {
    "ExecuteTime": {
     "end_time": "2024-03-06T03:45:05.116456500Z",
     "start_time": "2024-03-06T03:45:05.104729900Z"
    }
   },
   "outputs": [],
   "source": [
    "# задаем первый слой нейроннов в зависимости от знака\n",
    "first_layer_weight_multiclass = np.ones((2,2,3)) "
   ]
  },
  {
   "cell_type": "code",
   "outputs": [
    {
     "data": {
      "text/plain": "array([[[1., 1., 1.],\n        [1., 1., 1.]],\n\n       [[1., 1., 1.],\n        [1., 1., 1.]]])"
     },
     "execution_count": 2196,
     "metadata": {},
     "output_type": "execute_result"
    }
   ],
   "source": [
    "first_layer_weight_multiclass"
   ],
   "metadata": {
    "collapsed": false,
    "ExecuteTime": {
     "end_time": "2024-03-06T03:45:05.117456Z",
     "start_time": "2024-03-06T03:45:05.107243800Z"
    }
   },
   "execution_count": 2196
  },
  {
   "cell_type": "code",
   "outputs": [],
   "source": [
    "def calculate_res_multiclass(input_number, first_layer_weights):\n",
    "  sum_array = list()\n",
    "  for j in range(3):\n",
    "    sum_array.append(0)\n",
    "    for i in range(2):\n",
    "      sum_array[j] += input_number[i] * first_layer_weights[input_number[2]][i][j]\n",
    "  return sum_array"
   ],
   "metadata": {
    "collapsed": false,
    "ExecuteTime": {
     "end_time": "2024-03-06T03:45:05.127623400Z",
     "start_time": "2024-03-06T03:45:05.111670500Z"
    }
   },
   "execution_count": 2197
  },
  {
   "cell_type": "code",
   "outputs": [],
   "source": [
    "def result_multiclass(sum_array):\n",
    "  return sum_array.index(max(sum_array))"
   ],
   "metadata": {
    "collapsed": false,
    "ExecuteTime": {
     "end_time": "2024-03-06T03:45:05.128623500Z",
     "start_time": "2024-03-06T03:45:05.114183700Z"
    }
   },
   "execution_count": 2198
  },
  {
   "cell_type": "code",
   "outputs": [],
   "source": [
    "def learn_multiclass(input_number, first_layer_weights):\n",
    "  if (result_multiclass(calculate_res_multiclass(input_number, first_layer_weights)) != input_number[3]):\n",
    "    for j in range(3):\n",
    "      if j == input_number[3]:\n",
    "        k = 0.5\n",
    "      else:\n",
    "        k = -0.1\n",
    "      for i in range(2):\n",
    "        first_layer_weights[input_number[2]][i][j] += input_number[i] * k\n",
    "  return first_layer_weights"
   ],
   "metadata": {
    "collapsed": false,
    "ExecuteTime": {
     "end_time": "2024-03-06T03:45:05.130626200Z",
     "start_time": "2024-03-06T03:45:05.117456Z"
    }
   },
   "execution_count": 2199
  },
  {
   "cell_type": "code",
   "outputs": [],
   "source": [
    "def train_nn_mc(input_dataset, first_layer_weights, size_of_dataset):\n",
    "  for i in range(size_of_dataset):\n",
    "    learn_multiclass(random.choice(input_dataset), first_layer_weights)"
   ],
   "metadata": {
    "collapsed": false,
    "ExecuteTime": {
     "end_time": "2024-03-06T03:45:05.130626200Z",
     "start_time": "2024-03-06T03:45:05.121299500Z"
    }
   },
   "execution_count": 2200
  },
  {
   "cell_type": "code",
   "outputs": [],
   "source": [
    "x = random.choice(dataset)"
   ],
   "metadata": {
    "collapsed": false,
    "ExecuteTime": {
     "end_time": "2024-03-06T03:45:05.143827500Z",
     "start_time": "2024-03-06T03:45:05.131629300Z"
    }
   },
   "execution_count": 2201
  },
  {
   "cell_type": "code",
   "outputs": [],
   "source": [
    "train_nn_mc(dataset, first_layer_weight_multiclass, 8000)"
   ],
   "metadata": {
    "collapsed": false,
    "ExecuteTime": {
     "end_time": "2024-03-06T03:45:05.165952900Z",
     "start_time": "2024-03-06T03:45:05.134830900Z"
    }
   },
   "execution_count": 2202
  },
  {
   "cell_type": "markdown",
   "source": [],
   "metadata": {
    "collapsed": false
   }
  },
  {
   "cell_type": "code",
   "outputs": [],
   "source": [
    "def test_multiclass(input_number, first_layer_weights):\n",
    "  if (result_multiclass(calculate_res_multiclass(input_number, first_layer_weights)) == input_number[3]):\n",
    "    return 1\n",
    "  else:\n",
    "    return 0"
   ],
   "metadata": {
    "collapsed": false,
    "ExecuteTime": {
     "end_time": "2024-03-06T03:45:05.179924300Z",
     "start_time": "2024-03-06T03:45:05.167960800Z"
    }
   },
   "execution_count": 2203
  },
  {
   "cell_type": "code",
   "outputs": [],
   "source": [
    "def test_nn_mc(input_dataset, first_layer_weights, size_of_dataset):\n",
    "  res = 0\n",
    "  for i in range(size_of_dataset):\n",
    "    x = random.choice(dataset)\n",
    "    res += test_multiclass(x, first_layer_weights)\n",
    "  return (res / size_of_dataset)"
   ],
   "metadata": {
    "collapsed": false,
    "ExecuteTime": {
     "end_time": "2024-03-06T03:45:05.179924300Z",
     "start_time": "2024-03-06T03:45:05.170480Z"
    }
   },
   "execution_count": 2204
  },
  {
   "cell_type": "code",
   "outputs": [],
   "source": [
    "train_nn_mc(dataset, first_layer_weight_multiclass, 8000)"
   ],
   "metadata": {
    "collapsed": false,
    "ExecuteTime": {
     "end_time": "2024-03-06T03:45:05.205278800Z",
     "start_time": "2024-03-06T03:45:05.173928Z"
    }
   },
   "execution_count": 2205
  },
  {
   "cell_type": "code",
   "outputs": [
    {
     "data": {
      "text/plain": "array([[[-2.289,  1.035,  5.049],\n        [-2.573,  0.853,  4.261]],\n\n       [[-3.202,  0.818,  4.67 ],\n        [ 4.786,  0.736, -2.99 ]]])"
     },
     "execution_count": 2206,
     "metadata": {},
     "output_type": "execute_result"
    }
   ],
   "source": [
    "first_layer_weight_multiclass"
   ],
   "metadata": {
    "collapsed": false,
    "ExecuteTime": {
     "end_time": "2024-03-06T03:45:05.215610900Z",
     "start_time": "2024-03-06T03:45:05.203800700Z"
    }
   },
   "execution_count": 2206
  },
  {
   "cell_type": "code",
   "outputs": [
    {
     "name": "stdout",
     "output_type": "stream",
     "text": [
      "Accuracy-score:  0.9805\n"
     ]
    }
   ],
   "source": [
    "print('Accuracy-score: ', test_nn_mc(dataset, first_layer_weight_multiclass, 2000))"
   ],
   "metadata": {
    "collapsed": false,
    "ExecuteTime": {
     "end_time": "2024-03-06T03:45:05.223776500Z",
     "start_time": "2024-03-06T03:45:05.206796800Z"
    }
   },
   "execution_count": 2207
  },
  {
   "cell_type": "markdown",
   "metadata": {
    "id": "3OfU4DiyegEw"
   },
   "source": [
    "**Задание (базовый уровень):**\n",
    "Создать модель (без использования готовых решений) перцептрона, которая будет определять к какому классу относится релультат операции {+, -}: {отрицательное число, ноль, положительное число}.\n",
    "\n",
    "**Задание (повышенный уровень):**\n",
    "Создать модель (без использования готовых решений) перцептрона, которая будет определять к какому классу относится релультат операции {+, -, /, *}: {отрицательное число, ноль, положительное число, inf}."
   ]
  },
  {
   "cell_type": "code",
   "execution_count": 2207,
   "metadata": {
    "id": "1n7jcJuwdg3O",
    "ExecuteTime": {
     "end_time": "2024-03-06T03:45:05.223776500Z",
     "start_time": "2024-03-06T03:45:05.217622400Z"
    }
   },
   "outputs": [],
   "source": []
  }
 ],
 "metadata": {
  "colab": {
   "provenance": []
  },
  "kernelspec": {
   "name": "python3",
   "language": "python",
   "display_name": "Python 3 (ipykernel)"
  },
  "language_info": {
   "codemirror_mode": {
    "name": "ipython",
    "version": 3
   },
   "file_extension": ".py",
   "mimetype": "text/x-python",
   "name": "python",
   "nbconvert_exporter": "python",
   "pygments_lexer": "ipython3",
   "version": "3.12.0"
  }
 },
 "nbformat": 4,
 "nbformat_minor": 0
}
